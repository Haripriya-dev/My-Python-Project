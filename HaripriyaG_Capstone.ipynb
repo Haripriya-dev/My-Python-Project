{
 "cells": [
  {
   "cell_type": "code",
   "execution_count": 1,
   "id": "7f143c83-bd1c-4541-a085-d3e4ebfea264",
   "metadata": {},
   "outputs": [],
   "source": [
    "import pandas as pd\n",
    "import numpy as np"
   ]
  },
  {
   "cell_type": "code",
   "execution_count": 8,
   "id": "62887e31-1c86-4217-8322-127ddada99cf",
   "metadata": {},
   "outputs": [],
   "source": [
    "#Tast 1: \n",
    "#Creating Project Dataframe\n",
    "project_data = {\n",
    "    'ID': ['A001','A002','A003','A004','A005','A002','A005','A003','A001','A003','A001','A004','A004','A005'],\n",
    "    'Project': ['Project 1','Project 2','Project 3','Project 4','Project 5','Project 6','Project 7',\n",
    "                'Project 8','Project 9','Project 10','Project 11','Project 12','Project 13','Project 14'],\n",
    "    'Cost': [1002000, 2000000, 4500000, 5500000, None, 680000, 400000, 350000, None, 300000, 2000000, 1000000, 3000000, 200000],\n",
    "    'Status': ['Finished', 'Ongoing', 'Finished', 'Ongoing', 'Finished', 'Failed', 'Finished', 'Failed', 'Ongoing', 'Finished', 'Failed', 'Ongoing', 'Finished', 'Finished']\n",
    "}\n",
    "df_project = pd.DataFrame(project_data)\n",
    "df_project.to_csv('project.csv', index=False)"
   ]
  },
  {
   "cell_type": "code",
   "execution_count": 9,
   "id": "4adda5e0-df91-47ac-8e08-d129f83e886d",
   "metadata": {},
   "outputs": [],
   "source": [
    "#Creating Employee Dataframe\n",
    "employee_data = {\n",
    "    'ID': ['A001', 'A002', 'A003', 'A004', 'A005'],\n",
    "    'Name': ['John Alter', 'Alice Luxumberg', 'Tom Sabestine', 'Nina Adgra', 'Amy Johny'],\n",
    "    'Gender': ['M', 'F', 'M', 'F', 'F'],\n",
    "    'City': ['Paris', 'London', 'Berlin', 'Newyork', 'Madrid'],\n",
    "    'Age': [25, 27, 29, 31, 30]\n",
    "}\n",
    "df_employee = pd.DataFrame(employee_data)\n",
    "df_employee.to_csv('employee.csv', index=False)"
   ]
  },
  {
   "cell_type": "code",
   "execution_count": 10,
   "id": "dac7e802-70fa-494e-ac59-da6a2ea78d92",
   "metadata": {},
   "outputs": [],
   "source": [
    "#Creating Seniority Level DataFrame\n",
    "seniority_data = {\n",
    "    'ID': ['A001', 'A002', 'A003', 'A004', 'A005'],\n",
    "    'Designation Level': [2, 2, 3, 2, 3]\n",
    "}\n",
    "df_seniority = pd.DataFrame(seniority_data)\n",
    "df_seniority.to_csv('seniority.csv', index=False)"
   ]
  },
  {
   "cell_type": "code",
   "execution_count": 16,
   "id": "2b0b03d6-c05a-4e52-b74c-f5756d9fb11b",
   "metadata": {},
   "outputs": [],
   "source": [
    "#Task 2:\n",
    "#Replacing missing values with running average using for loop\n",
    "# Load project.csv\n",
    "df_project = pd.read_csv('project.csv')\n",
    "\n",
    "total = 0\n",
    "count = 0\n",
    "\n",
    "for i in range(len(df_project)):\n",
    "    if pd.isnull(df_project.loc[i, 'Cost']):\n",
    "        if count == 0:\n",
    "            df_project.loc[i, 'Cost'] = 0\n",
    "        else:\n",
    "            df_project.loc[i, 'Cost'] = total / count\n",
    "    total += df_project.loc[i, 'Cost']\n",
    "    count += 1\n",
    "\n",
    "df_project.to_csv('project.csv', index=False)"
   ]
  },
  {
   "cell_type": "code",
   "execution_count": 19,
   "id": "25f3f186-e38a-4665-a73c-19f4b822fe30",
   "metadata": {},
   "outputs": [],
   "source": [
    "#Task 3:\n",
    "#Splitting name columns as 'FistName' and 'LastName\" and removing the name column\n",
    "# Load employee.csv\n",
    "df_employee = pd.read_csv('employee.csv')\n",
    "\n",
    "# Safely split name column into two parts\n",
    "split_names = df_employee['Name'].str.split(' ', n=1, expand=True)\n",
    "\n",
    "# Assign to new columns\n",
    "df_employee['First Name'] = split_names[0]\n",
    "\n",
    "# Handle any missing last names\n",
    "df_employee['Last Name'] = split_names[1].fillna('')  \n",
    "\n",
    "# Drop old 'Name' column\n",
    "df_employee.drop(columns=['Name'], inplace=True)\n",
    "\n",
    "df_employee.to_csv('employee.csv', index=False)"
   ]
  },
  {
   "cell_type": "code",
   "execution_count": 20,
   "id": "06f7c9ee-b716-4cf2-89d9-29699bf88f4c",
   "metadata": {},
   "outputs": [],
   "source": [
    "#Task 4:\n",
    "#Joining all Dataframes\n",
    "#Load seniority.csv\n",
    "df_seniority = pd.read_csv('seniority.csv')\n",
    "\n",
    "# Merging\n",
    "final_df = df_project.merge(df_employee, on='ID', how='left')\n",
    "final_df = final_df.merge(df_seniority, on='ID', how='left')\n",
    "final_df.to_csv('final.csv', index=False)"
   ]
  },
  {
   "cell_type": "code",
   "execution_count": 21,
   "id": "610f8540-9030-4e1e-aa09-57843d0cc548",
   "metadata": {},
   "outputs": [],
   "source": [
    "#Task 5:\n",
    "#Adding 5% bonus in final Dataframe if finished\n",
    "#Load final.csv\n",
    "final_df = pd.read_csv('final.csv')\n",
    "\n",
    "final_df['Bonus'] = final_df.apply(lambda row: 0.05 * row['Cost'] if row['Status'] == 'Finished' else 0, axis=1)"
   ]
  },
  {
   "cell_type": "code",
   "execution_count": 22,
   "id": "395a5c3a-d10c-4069-a570-ab55e5c77bdd",
   "metadata": {},
   "outputs": [],
   "source": [
    "#Task 6:\n",
    "#Demoteing the designation for failed projects\n",
    "final_df.loc[final_df['Status'] == 'Failed', 'Designation Level'] += 1\n",
    "\n",
    "# Remove records with designation > 4\n",
    "final_df = final_df[final_df['Designation Level'] <= 4]"
   ]
  },
  {
   "cell_type": "code",
   "execution_count": 27,
   "id": "d1369af0-31aa-4ec2-b3f9-70cd294ef8eb",
   "metadata": {},
   "outputs": [],
   "source": [
    "#Task 7:\n",
    "#Adding Mr. and Mrs. and drop the Gender\n",
    "def add_title(row):\n",
    "    return 'Mr. ' + row['First Name'] if row['Gender'] == 'M' else 'Mrs. ' + row['First Name']\n",
    "\n",
    "final_df['First Name'] = final_df.apply(add_title, axis=1)\n",
    "final_df.drop(columns=['Gender'], inplace=True)"
   ]
  },
  {
   "cell_type": "code",
   "execution_count": 29,
   "id": "3b20598c-a877-41ac-8610-a4262752fedf",
   "metadata": {},
   "outputs": [],
   "source": [
    "#Task 8:\n",
    "#Promote Designation for Age > 29\n",
    "final_df.loc[final_df['Age'] > 29, 'Designation Level'] = final_df['Designation Level'] - 1\n",
    "final_df['Designation Level'] = final_df['Designation Level'].clip(lower=1)"
   ]
  },
  {
   "cell_type": "code",
   "execution_count": 30,
   "id": "cfef98e1-ba3e-4c40-8ffa-8d32d58b3337",
   "metadata": {},
   "outputs": [],
   "source": [
    "#Task 9:\n",
    "#Finding Total Project cost per employee\n",
    "total_proj_cost = final_df.groupby(['ID', 'First Name'])['Cost'].sum().reset_index()\n",
    "total_proj_cost.rename(columns={'Cost': 'Total Cost'}, inplace=True)\n",
    "total_proj_cost.to_csv('total_project_cost.csv', index=False)"
   ]
  },
  {
   "cell_type": "code",
   "execution_count": 31,
   "id": "d052c42f-0dc8-4971-9623-beb03f7447e8",
   "metadata": {},
   "outputs": [
    {
     "name": "stdout",
     "output_type": "stream",
     "text": [
      "      ID     Project       Cost    Status     City  Age  First Name  \\\n",
      "1   A002   Project 2  2000000.0   Ongoing   London   27  Mrs. Alice   \n",
      "3   A004   Project 4  5500000.0   Ongoing  Newyork   31   Mrs. Nina   \n",
      "5   A002   Project 6   680000.0    Failed   London   27  Mrs. Alice   \n",
      "11  A004  Project 12  1000000.0   Ongoing  Newyork   31   Mrs. Nina   \n",
      "12  A004  Project 13  3000000.0  Finished  Newyork   31   Mrs. Nina   \n",
      "\n",
      "    Last Name  Designation Level     Bonus  \n",
      "1   Luxumberg                  2       0.0  \n",
      "3       Adgra                  1       0.0  \n",
      "5   Luxumberg                  3       0.0  \n",
      "11      Adgra                  1       0.0  \n",
      "12      Adgra                  1  150000.0  \n"
     ]
    }
   ],
   "source": [
    "#Task 10:\n",
    "#Filter Employees with City Containing 'o'\n",
    "employees_with_o = final_df[final_df['City'].str.contains('o', case=False)]\n",
    "print(employees_with_o)"
   ]
  },
  {
   "cell_type": "code",
   "execution_count": null,
   "id": "65564efd-110f-4823-9dbe-2b34b96593f2",
   "metadata": {},
   "outputs": [],
   "source": []
  }
 ],
 "metadata": {
  "kernelspec": {
   "display_name": "Python [conda env:base] *",
   "language": "python",
   "name": "conda-base-py"
  },
  "language_info": {
   "codemirror_mode": {
    "name": "ipython",
    "version": 3
   },
   "file_extension": ".py",
   "mimetype": "text/x-python",
   "name": "python",
   "nbconvert_exporter": "python",
   "pygments_lexer": "ipython3",
   "version": "3.12.7"
  }
 },
 "nbformat": 4,
 "nbformat_minor": 5
}
